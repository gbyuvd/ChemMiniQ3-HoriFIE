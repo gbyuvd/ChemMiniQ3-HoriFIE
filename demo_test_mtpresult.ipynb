{
 "cells": [
  {
   "cell_type": "code",
   "execution_count": 2,
   "id": "4ff9650b",
   "metadata": {},
   "outputs": [
    {
     "name": "stdout",
     "output_type": "stream",
     "text": [
      "tensor([[  0, 379,   1]])\n",
      "tensor([[1, 1, 1]])\n",
      "cuda:0\n"
     ]
    }
   ],
   "source": [
    "from FastChemTokenizer import FastChemTokenizerSelfies\n",
    "# --- Load the tokenizer ---\n",
    "tokenizer = FastChemTokenizerSelfies.from_pretrained(\"./selftok_core\")\n",
    "\n",
    "# Test it\n",
    "out = tokenizer(\"[C]\", return_tensors=\"pt\")\n",
    "print(out.input_ids)          # ← Attribute access works\n",
    "print(out.attention_mask)     # ← Also works\n",
    "out = out.to(\"cuda\")          # ← Moves all tensors to GPU\n",
    "print(out.input_ids.device)   # ← Should be cuda:0"
   ]
  },
  {
   "cell_type": "code",
   "execution_count": 4,
   "id": "d16aeaf7",
   "metadata": {},
   "outputs": [
    {
     "name": "stdout",
     "output_type": "stream",
     "text": [
      "Model has 9,854,851 trainable parameters.\n",
      "Input shape: torch.Size([2, 32])\n",
      "Logits shape: torch.Size([2, 32, 782])\n"
     ]
    }
   ],
   "source": [
    "import torch\n",
    "from ChemQ3MTP import ChemQ3MTP\n",
    "# --- Initialize model from scratch ---\n",
    "\n",
    "model = ChemQ3MTP.from_pretrained('./pretrained/sample-e1-mtp')\n",
    "\n",
    "# --- Print model parameter count ---\n",
    "def count_parameters(model):\n",
    "    return sum(p.numel() for p in model.parameters() if p.requires_grad)\n",
    "\n",
    "print(f\"Model has {count_parameters(model):,} trainable parameters.\")\n",
    "\n",
    "# --- Quick forward pass sanity check ---\n",
    "batch_size, seq_len = 2, 32\n",
    "dummy_input = torch.randint(\n",
    "    low=0,\n",
    "    high=len(tokenizer),\n",
    "    size=(batch_size, seq_len),\n",
    "    dtype=torch.long,\n",
    ")\n",
    "\n",
    "with torch.no_grad():\n",
    "    outputs = model(dummy_input)\n",
    "    logits = outputs.logits\n",
    "\n",
    "print(f\"Input shape: {dummy_input.shape}\")\n",
    "print(f\"Logits shape: {logits.shape}\")  # should be [batch_size, seq_len, vocab_size]\n"
   ]
  },
  {
   "cell_type": "code",
   "execution_count": 5,
   "id": "105b47a0",
   "metadata": {},
   "outputs": [
    {
     "name": "stdout",
     "output_type": "stream",
     "text": [
      "[=N] [N] [=C] [Branch2] [Ring1] [Ring1] [C] [=C] [C] [=C] [C] [Branch1] [#Branch2] [O] [C] [Branch1] [C] [F] [Branch1] [C] [F] [F] [=C] [Ring1] [O] [O] [C] [=C] [C] [=C] [Branch1] [C] [F] [C] [Branch1] [C] [F] [=C] [Ring1] [Branch2]\n"
     ]
    }
   ],
   "source": [
    "# Generate SELFIES\n",
    "device = torch.device(\"cuda\" if torch.cuda.is_available() else \"cpu\")\n",
    "model.to(device)\n",
    "input_ids = tokenizer(\"<s>\", return_tensors=\"pt\").input_ids.to(device)\n",
    "gen = model.generate(input_ids, max_length=256, top_k=50, temperature=1, do_sample=True, pad_token_id=tokenizer.pad_token_id)\n",
    "print(tokenizer.decode(gen[0], skip_special_tokens=True))"
   ]
  },
  {
   "cell_type": "code",
   "execution_count": 7,
   "id": "b041d311",
   "metadata": {},
   "outputs": [
    {
     "name": "stdout",
     "output_type": "stream",
     "text": [
      "NN=C(C1=CC=CC(OC(F)(F)F)=C1)OC2=CC=C(F)C(F)=C2\n"
     ]
    }
   ],
   "source": [
    "# Manually convert it to SMILES\n",
    "import selfies as sf\n",
    "\n",
    "test = tokenizer.decode(gen[0], skip_special_tokens=True)\n",
    "test = test.replace(' ', '')\n",
    "print(sf.decoder(test))\n"
   ]
  },
  {
   "cell_type": "code",
   "execution_count": 15,
   "id": "f1608fa0",
   "metadata": {},
   "outputs": [
    {
     "name": "stdout",
     "output_type": "stream",
     "text": [
      "CC1CCCC1CCC2(NC3=CC=C(C(N)=O)C=C3[NH1]C2)C(=O)O\n"
     ]
    },
    {
     "data": {
      "image/jpeg": "[encoded data removed]",
      "image/png": "[encoded data removed]",
      "text/plain": [
       "<PIL.PngImagePlugin.PngImageFile image mode=RGB size=300x300>"
      ]
     },
     "execution_count": 15,
     "metadata": {},
     "output_type": "execute_result"
    }
   ],
   "source": [
    "# Generate Mol Viz\n",
    "from rdkit import Chem\n",
    "from rdkit.Chem import Draw\n",
    "\n",
    "input_ids = tokenizer(\"<s>\", return_tensors=\"pt\").input_ids.to(device)\n",
    "gen = model.generate(input_ids, max_length=256, top_k=50, temperature=1, do_sample=True, pad_token_id=tokenizer.pad_token_id)\n",
    "generatedmol = tokenizer.decode(gen[0], skip_special_tokens=True)\n",
    "\n",
    "test = generatedmol.replace(' ', '')\n",
    "csmi_gen = sf.decoder(test)\n",
    "print(csmi_gen)\n",
    "mol = Chem.MolFromSmiles(csmi_gen)\n",
    "\n",
    "# Draw the molecule\n",
    "Draw.MolToImage(mol)"
   ]
  }
 ],
 "metadata": {
  "kernelspec": {
   "display_name": "base",
   "language": "python",
   "name": "python3"
  },
  "language_info": {
   "codemirror_mode": {
    "name": "ipython",
    "version": 3
   },
   "file_extension": ".py",
   "mimetype": "text/x-python",
   "name": "python",
   "nbconvert_exporter": "python",
   "pygments_lexer": "ipython3",
   "version": "3.13.0"
  }
 },
 "nbformat": 4,
 "nbformat_minor": 5
}
